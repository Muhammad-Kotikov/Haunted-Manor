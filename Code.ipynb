{
 "cells": [
  {
   "cell_type": "markdown",
   "metadata": {},
   "source": [
    "## Eventuell nützlicher Code der aber (noch) nicht implementiert wurde"
   ]
  },
  {
   "cell_type": "markdown",
   "metadata": {},
   "source": [
    "### Eingabe"
   ]
  },
  {
   "cell_type": "markdown",
   "metadata": {},
   "source": [
    "#### Code der überprüft ob Tasten framegenau gedrückt wurden (und nicht schon vorher gedrückt wurden)"
   ]
  },
  {
   "cell_type": "code",
   "execution_count": null,
   "metadata": {},
   "outputs": [],
   "source": [
    "### --- VOR DER LOOP REINPASTEN --- ###\n",
    "keys = []\n",
    "\n",
    "### --- IN DER LOOP REINPASTEN --- ###\n",
    "keys_last = keys.copy()\n",
    "keys = list(pygame.key.get_pressed())\n",
    "just_pressed = []\n",
    "\n",
    "for key_pressed, key_last_pressed in zip(keys, keys_last):\n",
    "    just_pressed.append(key_pressed and not key_last_pressed)\n",
    "\n",
    "if keys.count(True) or keys_last.count(True):\n",
    "    print(keys.count(True), keys_last.count(True), just_pressed.count(True))"
   ]
  },
  {
   "cell_type": "markdown",
   "metadata": {},
   "source": [
    "### Logik"
   ]
  },
  {
   "cell_type": "markdown",
   "metadata": {},
   "source": [
    "### Grafik"
   ]
  },
  {
   "cell_type": "markdown",
   "metadata": {},
   "source": [
    "#### Hochskalierung von Pixeln"
   ]
  },
  {
   "cell_type": "code",
   "execution_count": null,
   "metadata": {},
   "outputs": [],
   "source": [
    "### --- VOR DER LOOP REINPASTEN --- ###\n",
    "\n",
    "# TILE_SIZE ist die Pixelgröße eines Feldes im Spiel\n",
    "TILE_SIZE = 16\n",
    "\n",
    "# WIDTH und HEIGHT geben an wie viele Felder in vertikel und horizontal in die Malfläche reinpassen\n",
    "WIDTH = 20\n",
    "HEIGHT = 15\n",
    "\n",
    "# Jeder Pixel der Malfläche wird mit diesem Wert multipliziert, das heißt die Pixel werden vergrößert um den FaktorSCALE\n",
    "SCALE = 3\n",
    "\n",
    "# So oft läuft die Spielschleife pro Sekunde, das heißt es wird FRAMERATE oft bspw. die Kollision gecheckt,\n",
    "# so viele Bilder werden angezeigt und so oft kann sich etwas auf dem Bildschirm bewegen\n",
    "FRAMERATE = 30\n",
    "\n",
    "# Berechnung der Malflächegröße (in Pixel) und der tatsächlichen Auflösung/Fenstergröße (in Pixel)\n",
    "CANVAS_WIDTH = WIDTH * TILE_SIZE\n",
    "CAVNAS_HEIGHT = HEIGHT * TILE_SIZE\n",
    "\n",
    "RESOLUTION_DIMENSIONS = (CANVAS_WIDTH, CAVNAS_HEIGHT)\n",
    "SCREEN_DIMENSIONS = (CANVAS_WIDTH * SCALE, CAVNAS_HEIGHT * SCALE)\n",
    "\n",
    "# Startet irgendwelche Hintergrundgeschichten\n",
    "pygame.init()\n",
    "\n",
    "# Bildschirm und Zeichenfläche erstellen\n",
    "screen = pygame.display.set_mode(SCREEN_DIMENSIONS)\n",
    "canvas = pygame.Surface(RESOLUTION_DIMENSIONS)\n",
    "\n",
    "### --- IN DER LOOP REINPASTEN --- ###\n",
    "\n",
    "# https://stackoverflow.com/questions/34910086/pygame-how-do-i-resize-a-surface-and-keep-all-objects-within-proportionate-to-t / Mua / 25.09.2024\n",
    "screen.blit(pygame.transform.scale(canvas, screen.get_rect().size), (0, 0))\n",
    "\n",
    "\n",
    "################################\n",
    "# WICHTIG, ALLES WAS AUS screen GEZEICHNET WURDE MUSS AUF canvas gewechselt werden"
   ]
  }
 ],
 "metadata": {
  "kernelspec": {
   "display_name": ".venv",
   "language": "python",
   "name": "python3"
  },
  "language_info": {
   "name": "python",
   "version": "3.10.7"
  }
 },
 "nbformat": 4,
 "nbformat_minor": 2
}
